{
 "cells": [
  {
   "cell_type": "markdown",
   "metadata": {},
   "source": [
    "trying the models on the synthetic database\n",
    " "
   ]
  },
  {
   "cell_type": "code",
   "execution_count": 2,
   "metadata": {},
   "outputs": [],
   "source": [
    "import numpy as np\n",
    "import pandas as pd\n",
    "import seaborn as sns\n",
    "import matplotlib.pyplot as plt\n",
    "from sklearn.preprocessing import StandardScaler\n",
    "from sklearn.model_selection import train_test_split\n",
    "from sklearn.metrics import accuracy_score, confusion_matrix,classification_report\n",
    "\n"
   ]
  },
  {
   "cell_type": "code",
   "execution_count": 3,
   "metadata": {},
   "outputs": [
    {
     "data": {
      "text/html": [
       "<div>\n",
       "<style scoped>\n",
       "    .dataframe tbody tr th:only-of-type {\n",
       "        vertical-align: middle;\n",
       "    }\n",
       "\n",
       "    .dataframe tbody tr th {\n",
       "        vertical-align: top;\n",
       "    }\n",
       "\n",
       "    .dataframe thead th {\n",
       "        text-align: right;\n",
       "    }\n",
       "</style>\n",
       "<table border=\"1\" class=\"dataframe\">\n",
       "  <thead>\n",
       "    <tr style=\"text-align: right;\">\n",
       "      <th></th>\n",
       "      <th>transaction_id</th>\n",
       "      <th>customer_id</th>\n",
       "      <th>merchant_id</th>\n",
       "      <th>amount</th>\n",
       "      <th>transaction_time</th>\n",
       "      <th>is_fraudulent</th>\n",
       "      <th>card_type</th>\n",
       "      <th>location</th>\n",
       "      <th>purchase_category</th>\n",
       "      <th>customer_age</th>\n",
       "      <th>transaction_description</th>\n",
       "    </tr>\n",
       "  </thead>\n",
       "  <tbody>\n",
       "    <tr>\n",
       "      <th>0</th>\n",
       "      <td>1</td>\n",
       "      <td>1082</td>\n",
       "      <td>2027</td>\n",
       "      <td>5758.59</td>\n",
       "      <td>2023-01-01 00:00:00</td>\n",
       "      <td>0</td>\n",
       "      <td>MasterCard</td>\n",
       "      <td>City-30</td>\n",
       "      <td>Gas Station</td>\n",
       "      <td>43</td>\n",
       "      <td>Purchase at Merchant-2027</td>\n",
       "    </tr>\n",
       "    <tr>\n",
       "      <th>1</th>\n",
       "      <td>2</td>\n",
       "      <td>1015</td>\n",
       "      <td>2053</td>\n",
       "      <td>1901.56</td>\n",
       "      <td>2023-01-01 00:00:01</td>\n",
       "      <td>1</td>\n",
       "      <td>Visa</td>\n",
       "      <td>City-47</td>\n",
       "      <td>Online Shopping</td>\n",
       "      <td>61</td>\n",
       "      <td>Purchase at Merchant-2053</td>\n",
       "    </tr>\n",
       "    <tr>\n",
       "      <th>2</th>\n",
       "      <td>3</td>\n",
       "      <td>1004</td>\n",
       "      <td>2035</td>\n",
       "      <td>1248.86</td>\n",
       "      <td>2023-01-01 00:00:02</td>\n",
       "      <td>1</td>\n",
       "      <td>MasterCard</td>\n",
       "      <td>City-6</td>\n",
       "      <td>Gas Station</td>\n",
       "      <td>57</td>\n",
       "      <td>Purchase at Merchant-2035</td>\n",
       "    </tr>\n",
       "    <tr>\n",
       "      <th>3</th>\n",
       "      <td>4</td>\n",
       "      <td>1095</td>\n",
       "      <td>2037</td>\n",
       "      <td>7619.05</td>\n",
       "      <td>2023-01-01 00:00:03</td>\n",
       "      <td>1</td>\n",
       "      <td>Discover</td>\n",
       "      <td>City-6</td>\n",
       "      <td>Travel</td>\n",
       "      <td>59</td>\n",
       "      <td>Purchase at Merchant-2037</td>\n",
       "    </tr>\n",
       "    <tr>\n",
       "      <th>4</th>\n",
       "      <td>5</td>\n",
       "      <td>1036</td>\n",
       "      <td>2083</td>\n",
       "      <td>1890.10</td>\n",
       "      <td>2023-01-01 00:00:04</td>\n",
       "      <td>1</td>\n",
       "      <td>MasterCard</td>\n",
       "      <td>City-34</td>\n",
       "      <td>Retail</td>\n",
       "      <td>36</td>\n",
       "      <td>Purchase at Merchant-2083</td>\n",
       "    </tr>\n",
       "  </tbody>\n",
       "</table>\n",
       "</div>"
      ],
      "text/plain": [
       "   transaction_id  customer_id  merchant_id   amount     transaction_time  \\\n",
       "0               1         1082         2027  5758.59  2023-01-01 00:00:00   \n",
       "1               2         1015         2053  1901.56  2023-01-01 00:00:01   \n",
       "2               3         1004         2035  1248.86  2023-01-01 00:00:02   \n",
       "3               4         1095         2037  7619.05  2023-01-01 00:00:03   \n",
       "4               5         1036         2083  1890.10  2023-01-01 00:00:04   \n",
       "\n",
       "   is_fraudulent   card_type location purchase_category  customer_age  \\\n",
       "0              0  MasterCard  City-30       Gas Station            43   \n",
       "1              1        Visa  City-47   Online Shopping            61   \n",
       "2              1  MasterCard   City-6       Gas Station            57   \n",
       "3              1    Discover   City-6            Travel            59   \n",
       "4              1  MasterCard  City-34            Retail            36   \n",
       "\n",
       "     transaction_description  \n",
       "0  Purchase at Merchant-2027  \n",
       "1  Purchase at Merchant-2053  \n",
       "2  Purchase at Merchant-2035  \n",
       "3  Purchase at Merchant-2037  \n",
       "4  Purchase at Merchant-2083  "
      ]
     },
     "execution_count": 3,
     "metadata": {},
     "output_type": "execute_result"
    }
   ],
   "source": [
    "data = pd.read_csv('../data/synthetic_financial_data.csv')\n",
    "data.head()"
   ]
  },
  {
   "cell_type": "code",
   "execution_count": 6,
   "metadata": {},
   "outputs": [
    {
     "data": {
      "text/plain": [
       "Index(['transaction_id', 'customer_id', 'merchant_id', 'amount',\n",
       "       'transaction_time', 'is_fraudulent', 'card_type', 'location',\n",
       "       'purchase_category', 'customer_age', 'transaction_description'],\n",
       "      dtype='object')"
      ]
     },
     "execution_count": 6,
     "metadata": {},
     "output_type": "execute_result"
    }
   ],
   "source": [
    "data['is_fraudulent'].value_counts()\n",
    "data.columns\n"
   ]
  },
  {
   "cell_type": "code",
   "execution_count": 33,
   "metadata": {},
   "outputs": [
    {
     "data": {
      "image/png": "[encoded data removed]",
      "text/plain": [
       "<Figure size 640x480 with 2 Axes>"
      ]
     },
     "metadata": {},
     "output_type": "display_data"
    },
    {
     "name": "stderr",
     "output_type": "stream",
     "text": [
      "C:\\Users\\vishn\\AppData\\Local\\Temp\\ipykernel_69844\\3225041648.py:15: SettingWithCopyWarning: \n",
      "A value is trying to be set on a copy of a slice from a DataFrame\n",
      "\n",
      "See the caveats in the documentation: https://pandas.pydata.org/pandas-docs/stable/user_guide/indexing.html#returning-a-view-versus-a-copy\n",
      "  x.loc[:,inputcols]=sc.transform(x[inputcols])\n"
     ]
    }
   ],
   "source": [
    "inputcols = ['amount', 'card_type', 'location',\n",
    "       'purchase_category', 'customer_age', 'transaction_description']\n",
    "x = data[inputcols]\n",
    "y = data['isFraud']\n",
    "\n",
    "\n",
    "# max_amount = x['amount'].max()\n",
    "# x['amount'] = x['amount']/max_amount\n",
    "# print(x['amount'].describe())\n",
    "\n",
    "correlation = x.corr()\n",
    "sns.heatmap(correlation, annot=True)\n",
    "plt.show()\n",
    "\n",
    "sc=StandardScaler().fit(x[inputcols])\n",
    "x.loc[:,inputcols]=sc.transform(x[inputcols])\n"
   ]
  },
  {
   "cell_type": "code",
   "execution_count": 45,
   "metadata": {},
   "outputs": [
    {
     "name": "stdout",
     "output_type": "stream",
     "text": [
      "count    6.362620e+06\n",
      "mean    -4.946736e-17\n",
      "std      1.000000e+00\n",
      "min     -2.978545e-01\n",
      "25%     -2.756812e-01\n",
      "50%     -1.738653e-01\n",
      "75%      4.779197e-02\n",
      "max      1.527936e+02\n",
      "Name: amount, dtype: float64\n"
     ]
    },
    {
     "data": {
      "text/plain": [
       "(0.0, 100000.0)"
      ]
     },
     "execution_count": 45,
     "metadata": {},
     "output_type": "execute_result"
    },
    {
     "data": {
      "image/png": "[encoded data removed]",
      "text/plain": [
       "<Figure size 640x480 with 1 Axes>"
      ]
     },
     "metadata": {},
     "output_type": "display_data"
    }
   ],
   "source": [
    "print(x['amount'].describe())\n",
    "\n",
    "fig, ax = plt.subplots()\n",
    "sns.histplot(x['amount'], bins=1000, ax=ax) \n",
    "ax.set_xlim(0, 20)\n",
    "ax.set_ylim(0,100000)\n",
    "# plt.show()"
   ]
  },
  {
   "cell_type": "code",
   "execution_count": 35,
   "metadata": {},
   "outputs": [],
   "source": [
    "x_train, x_test, y_train, y_test = train_test_split(x, y, test_size=0.25, random_state=42)\n",
    "def fit_model_to_data(model):\n",
    "    model.fit(x_train, y_train)\n",
    "    y_pred = model.predict(x_test)\n",
    "    print('Model:', model)\n",
    "    print('Accuracy:', accuracy_score(y_test, y_pred))\n",
    "    print('Confusion Matrix:\\n', confusion_matrix(y_test, y_pred))\n",
    "    print('Classification Report:\\n', classification_report(y_test, y_pred))"
   ]
  },
  {
   "cell_type": "code",
   "execution_count": 36,
   "metadata": {},
   "outputs": [],
   "source": [
    "from sklearn.linear_model import LogisticRegression\n",
    "from sklearn.svm import SVC\n",
    "from sklearn.naive_bayes import GaussianNB\n",
    "\n",
    "from sklearn.tree import DecisionTreeClassifier\n",
    "from sklearn.ensemble import RandomForestClassifier, GradientBoostingClassifier\n",
    "from xgboost import XGBClassifier\n"
   ]
  },
  {
   "cell_type": "code",
   "execution_count": 37,
   "metadata": {},
   "outputs": [],
   "source": [
    "from imblearn.under_sampling import RandomUnderSampler\n",
    "\n",
    "undersample = RandomUnderSampler(random_state=42)\n",
    "x_resampled, y_resampled = undersample.fit_resample(x_train, y_train)\n",
    "x_test_resampled,y_test_resampled=undersample.fit_resample(x_test,y_test)\n",
    "\n",
    "x_train=x_resampled\n",
    "y_train=y_resampled\n",
    "x_test=x_test_resampled\n",
    "y_test=y_test_resampled"
   ]
  },
  {
   "cell_type": "code",
   "execution_count": 38,
   "metadata": {},
   "outputs": [
    {
     "name": "stdout",
     "output_type": "stream",
     "text": [
      "Model: LogisticRegression()\n",
      "Accuracy: 0.867481662591687\n",
      "Confusion Matrix:\n",
      " [[2011   34]\n",
      " [ 508 1537]]\n",
      "Classification Report:\n",
      "               precision    recall  f1-score   support\n",
      "\n",
      "           0       0.80      0.98      0.88      2045\n",
      "           1       0.98      0.75      0.85      2045\n",
      "\n",
      "    accuracy                           0.87      4090\n",
      "   macro avg       0.89      0.87      0.87      4090\n",
      "weighted avg       0.89      0.87      0.87      4090\n",
      "\n"
     ]
    }
   ],
   "source": [
    "fit_model_to_data(LogisticRegression())"
   ]
  },
  {
   "cell_type": "code",
   "execution_count": 39,
   "metadata": {},
   "outputs": [
    {
     "name": "stdout",
     "output_type": "stream",
     "text": [
      "Model: GaussianNB()\n",
      "Accuracy: 0.6591687041564792\n",
      "Confusion Matrix:\n",
      " [[2004   41]\n",
      " [1353  692]]\n",
      "Classification Report:\n",
      "               precision    recall  f1-score   support\n",
      "\n",
      "           0       0.60      0.98      0.74      2045\n",
      "           1       0.94      0.34      0.50      2045\n",
      "\n",
      "    accuracy                           0.66      4090\n",
      "   macro avg       0.77      0.66      0.62      4090\n",
      "weighted avg       0.77      0.66      0.62      4090\n",
      "\n"
     ]
    }
   ],
   "source": [
    "fit_model_to_data(GaussianNB())"
   ]
  },
  {
   "cell_type": "code",
   "execution_count": 40,
   "metadata": {},
   "outputs": [
    {
     "name": "stdout",
     "output_type": "stream",
     "text": [
      "Model: DecisionTreeClassifier(max_depth=20)\n",
      "Accuracy: 0.9924205378973106\n",
      "Confusion Matrix:\n",
      " [[2027   18]\n",
      " [  13 2032]]\n",
      "Classification Report:\n",
      "               precision    recall  f1-score   support\n",
      "\n",
      "           0       0.99      0.99      0.99      2045\n",
      "           1       0.99      0.99      0.99      2045\n",
      "\n",
      "    accuracy                           0.99      4090\n",
      "   macro avg       0.99      0.99      0.99      4090\n",
      "weighted avg       0.99      0.99      0.99      4090\n",
      "\n"
     ]
    }
   ],
   "source": [
    "fit_model_to_data(DecisionTreeClassifier(max_depth=20))"
   ]
  },
  {
   "cell_type": "code",
   "execution_count": 41,
   "metadata": {},
   "outputs": [
    {
     "name": "stdout",
     "output_type": "stream",
     "text": [
      "Model: RandomForestClassifier(n_estimators=50)\n",
      "Accuracy: 0.99119804400978\n",
      "Confusion Matrix:\n",
      " [[2019   26]\n",
      " [  10 2035]]\n",
      "Classification Report:\n",
      "               precision    recall  f1-score   support\n",
      "\n",
      "           0       1.00      0.99      0.99      2045\n",
      "           1       0.99      1.00      0.99      2045\n",
      "\n",
      "    accuracy                           0.99      4090\n",
      "   macro avg       0.99      0.99      0.99      4090\n",
      "weighted avg       0.99      0.99      0.99      4090\n",
      "\n"
     ]
    }
   ],
   "source": [
    "fit_model_to_data(RandomForestClassifier(n_estimators=50))\n"
   ]
  },
  {
   "cell_type": "code",
   "execution_count": 42,
   "metadata": {},
   "outputs": [
    {
     "name": "stdout",
     "output_type": "stream",
     "text": [
      "Model: GradientBoostingClassifier(n_estimators=50)\n",
      "Accuracy: 0.9748166259168705\n",
      "Confusion Matrix:\n",
      " [[1967   78]\n",
      " [  25 2020]]\n",
      "Classification Report:\n",
      "               precision    recall  f1-score   support\n",
      "\n",
      "           0       0.99      0.96      0.97      2045\n",
      "           1       0.96      0.99      0.98      2045\n",
      "\n",
      "    accuracy                           0.97      4090\n",
      "   macro avg       0.98      0.97      0.97      4090\n",
      "weighted avg       0.98      0.97      0.97      4090\n",
      "\n"
     ]
    }
   ],
   "source": [
    "fit_model_to_data(GradientBoostingClassifier(n_estimators=50))"
   ]
  },
  {
   "cell_type": "code",
   "execution_count": 43,
   "metadata": {},
   "outputs": [
    {
     "name": "stdout",
     "output_type": "stream",
     "text": [
      "Model: XGBClassifier(base_score=None, booster=None, callbacks=None,\n",
      "              colsample_bylevel=None, colsample_bynode=None,\n",
      "              colsample_bytree=None, device=None, early_stopping_rounds=None,\n",
      "              enable_categorical=False, eval_metric=None, feature_types=None,\n",
      "              gamma=None, grow_policy=None, importance_type=None,\n",
      "              interaction_constraints=None, learning_rate=None, max_bin=None,\n",
      "              max_cat_threshold=None, max_cat_to_onehot=None,\n",
      "              max_delta_step=None, max_depth=None, max_leaves=None,\n",
      "              min_child_weight=None, missing=nan, monotone_constraints=None,\n",
      "              multi_strategy=None, n_estimators=50, n_jobs=None,\n",
      "              num_parallel_tree=None, random_state=None, ...)\n",
      "Accuracy: 0.9867970660146699\n",
      "Confusion Matrix:\n",
      " [[2006   39]\n",
      " [  15 2030]]\n",
      "Classification Report:\n",
      "               precision    recall  f1-score   support\n",
      "\n",
      "           0       0.99      0.98      0.99      2045\n",
      "           1       0.98      0.99      0.99      2045\n",
      "\n",
      "    accuracy                           0.99      4090\n",
      "   macro avg       0.99      0.99      0.99      4090\n",
      "weighted avg       0.99      0.99      0.99      4090\n",
      "\n"
     ]
    }
   ],
   "source": [
    "fit_model_to_data(XGBClassifier(n_estimators=50))"
   ]
  }
 ],
 "metadata": {
  "kernelspec": {
   "display_name": "Python 3",
   "language": "python",
   "name": "python3"
  },
  "language_info": {
   "codemirror_mode": {
    "name": "ipython",
    "version": 3
   },
   "file_extension": ".py",
   "mimetype": "text/x-python",
   "name": "python",
   "nbconvert_exporter": "python",
   "pygments_lexer": "ipython3",
   "version": "3.12.2"
  }
 },
 "nbformat": 4,
 "nbformat_minor": 2
}
